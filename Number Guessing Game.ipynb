{
 "cells": [
  {
   "cell_type": "code",
   "execution_count": 1,
   "id": "d7238a96",
   "metadata": {},
   "outputs": [
    {
     "name": "stdout",
     "output_type": "stream",
     "text": [
      "Welcome to the Number Guessing Game!\n",
      "Guess the number (between 1 and 100): 6\n",
      "Too low! Try again.\n",
      "Guess the number (between 1 and 100): 9\n",
      "Too low! Try again.\n",
      "Guess the number (between 1 and 100): 45\n",
      "Too low! Try again.\n",
      "Guess the number (between 1 and 100): 60\n",
      "Too low! Try again.\n",
      "Guess the number (between 1 and 100): 70\n",
      "Too low! Try again.\n",
      "Guess the number (between 1 and 100): 80\n",
      "Too low! Try again.\n",
      "Guess the number (between 1 and 100): 90\n",
      "Too high! Try again.\n",
      "Guess the number (between 1 and 100): 84\n",
      "Too low! Try again.\n",
      "Guess the number (between 1 and 100): 85\n",
      "Too low! Try again.\n",
      "Guess the number (between 1 and 100): 86\n",
      "Congratulations! You guessed the number in 10 attempts.\n"
     ]
    }
   ],
   "source": [
    "import random\n",
    "\n",
    "def play_game():\n",
    "    # Generate a random number between 1 and 100\n",
    "    secret_number = random.randint(1, 100)\n",
    "    attempts = 0\n",
    "\n",
    "    while True:\n",
    "        # Prompt the user to guess the number\n",
    "        guess = int(input(\"Guess the number (between 1 and 100): \"))\n",
    "        attempts += 1\n",
    "\n",
    "        # Compare the guess with the secret number\n",
    "        if guess < secret_number:\n",
    "            print(\"Too low! Try again.\")\n",
    "        elif guess > secret_number:\n",
    "            print(\"Too high! Try again.\")\n",
    "        else:\n",
    "            print(f\"Congratulations! You guessed the number in {attempts} attempts.\")\n",
    "            break\n",
    "\n",
    "# Start the game\n",
    "print(\"Welcome to the Number Guessing Game!\")\n",
    "play_game()\n"
   ]
  },
  {
   "cell_type": "code",
   "execution_count": null,
   "id": "ebed7799",
   "metadata": {},
   "outputs": [],
   "source": []
  }
 ],
 "metadata": {
  "kernelspec": {
   "display_name": "Python 3 (ipykernel)",
   "language": "python",
   "name": "python3"
  },
  "language_info": {
   "codemirror_mode": {
    "name": "ipython",
    "version": 3
   },
   "file_extension": ".py",
   "mimetype": "text/x-python",
   "name": "python",
   "nbconvert_exporter": "python",
   "pygments_lexer": "ipython3",
   "version": "3.11.3"
  }
 },
 "nbformat": 4,
 "nbformat_minor": 5
}
